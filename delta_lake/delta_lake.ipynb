{
 "cells": [
  {
   "cell_type": "markdown",
   "metadata": {
    "application/vnd.databricks.v1+cell": {
     "cellMetadata": {},
     "inputWidgets": {},
     "nuid": "4fc77c48-1cf9-4fa7-acb4-624928e4c975",
     "showTitle": false,
     "tableResultSettingsMap": {},
     "title": ""
    }
   },
   "source": [
    "Delta lake is a storage framework, it has 3 components: \n",
    "\n",
    "1- transaction log (table versions), it contains:\n",
    "  - which parquet files belong to which version\n",
    "  - metadata + statistics\n",
    "  - table properties\n",
    "\n",
    "2- Data Files (OSS parquet)\n",
    "\n",
    "3- A protocol(it tells engines the steps on when to update what, to properly read/write a table) -> protocol is what differentiates a framework from a file format; delta lake is a framework not a fileformat. \n",
    "\n",
    "There are many optimziation opportunities in transaction logs, as it can influences protocol and how engine read/write from delta table,in particular, table properties gives us many optimization opportunities.  \n",
    "\n",
    "![Screenshot 2025-03-25 at 2.16.02 PM.png](./Screenshot 2025-03-25 at 2.16.02 PM.png \"Screenshot 2025-03-25 at 2.16.02 PM.png\")\n",
    "  \n"
   ]
  },
  {
   "cell_type": "markdown",
   "metadata": {
    "application/vnd.databricks.v1+cell": {
     "cellMetadata": {},
     "inputWidgets": {},
     "nuid": "05f2974f-d28a-48d3-9710-efc0eb1b0804",
     "showTitle": false,
     "tableResultSettingsMap": {},
     "title": ""
    }
   },
   "source": [
    "Basic INSERT transaction: \n",
    "\n",
    "1- Database engine, gets a new data (couple of new record) , it will create a new parquest file\n",
    "\n",
    "2- engine will write to transaction log, a new json log: Add file-3.parquet\n",
    "\n",
    "3- you can imagien if there is concurency or conflicts, protocol can come ou with ways to resolve them \n",
    "\n",
    "![Screenshot 2025-03-25 at 2.37.54 PM.png](./Screenshot 2025-03-25 at 2.37.54 PM.png \"Screenshot 2025-03-25 at 2.37.54 PM.png\")"
   ]
  },
  {
   "cell_type": "code",
   "execution_count": 0,
   "metadata": {
    "application/vnd.databricks.v1+cell": {
     "cellMetadata": {},
     "inputWidgets": {},
     "nuid": "047edd31-eb08-48ab-a714-7c1acff085ee",
     "showTitle": false,
     "tableResultSettingsMap": {},
     "title": ""
    }
   },
   "outputs": [],
   "source": []
  },
  {
   "cell_type": "code",
   "execution_count": 0,
   "metadata": {
    "application/vnd.databricks.v1+cell": {
     "cellMetadata": {},
     "inputWidgets": {},
     "nuid": "627fd571-ddf0-4b13-93d9-ed5c987721d1",
     "showTitle": false,
     "tableResultSettingsMap": {},
     "title": ""
    }
   },
   "outputs": [],
   "source": []
  }
 ],
 "metadata": {
  "application/vnd.databricks.v1+notebook": {
   "computePreferences": null,
   "dashboards": [],
   "environmentMetadata": {
    "base_environment": "",
    "environment_version": "2"
   },
   "language": "python",
   "notebookMetadata": {
    "pythonIndentUnit": 2
   },
   "notebookName": "delta_lake",
   "widgets": {}
  },
  "language_info": {
   "name": "python"
  }
 },
 "nbformat": 4,
 "nbformat_minor": 0
}
